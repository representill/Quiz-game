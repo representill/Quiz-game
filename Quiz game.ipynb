{
 "cells": [
  {
   "cell_type": "code",
   "execution_count": 4,
   "id": "c9d587cc",
   "metadata": {
    "scrolled": true
   },
   "outputs": [
    {
     "name": "stdout",
     "output_type": "stream",
     "text": [
      "What is the capital of Norway?\n",
      "gjk\n",
      "What is the capital of Sweden\n",
      "gjh\n",
      "You did fucking shit\n"
     ]
    }
   ],
   "source": [
    "print(\"What is the capital of Norway?\")\n",
    "\n",
    "name = input()\n",
    "variable = 0\n",
    "\n",
    "if name == \"Oslo\" :\n",
    "    variable = variable + 1\n",
    "\n",
    "\n",
    "print(\"What is the capital of Sweden\")\n",
    "name = input()\n",
    "if name == \"Stockholm\" :\n",
    "    variable = variable + 1\n",
    "    \n",
    "if variable < 5:\n",
    "    print(\"You did fucking shit\")\n",
    "\n",
    "#Barebone quiz game you should be able to know how each bitch works"
   ]
  },
  {
   "cell_type": "code",
   "execution_count": null,
   "id": "d93fb55e",
   "metadata": {},
   "outputs": [],
   "source": []
  },
  {
   "cell_type": "code",
   "execution_count": null,
   "id": "77a2efaa",
   "metadata": {},
   "outputs": [],
   "source": []
  }
 ],
 "metadata": {
  "kernelspec": {
   "display_name": "Python 3",
   "language": "python",
   "name": "python3"
  },
  "language_info": {
   "codemirror_mode": {
    "name": "ipython",
    "version": 3
   },
   "file_extension": ".py",
   "mimetype": "text/x-python",
   "name": "python",
   "nbconvert_exporter": "python",
   "pygments_lexer": "ipython3",
   "version": "3.8.8"
  }
 },
 "nbformat": 4,
 "nbformat_minor": 5
}
